{
 "cells": [
  {
   "cell_type": "markdown",
   "metadata": {},
   "source": [
    "# Exemplo de Machine Learning"
   ]
  },
  {
   "cell_type": "markdown",
   "metadata": {},
   "source": [
    "## Processamento de Linguagem, o Chat Bot "
   ]
  },
  {
   "cell_type": "markdown",
   "metadata": {},
   "source": [
    "#### Paulo Cysne Rios Jr, 18 de Outubro de 2017"
   ]
  },
  {
   "cell_type": "markdown",
   "metadata": {},
   "source": [
    "### 1. Importar packages"
   ]
  },
  {
   "cell_type": "markdown",
   "metadata": {},
   "source": [
    "Não esquecer de ter instalado chatterbot primeiro no Command Shell (Windows)/ no Terminal (Mac), usando: \n",
    "- `pip install chatterbox` \n",
    "(ou: `pip3 install chatterbox`)"
   ]
  },
  {
   "cell_type": "code",
   "execution_count": 14,
   "metadata": {
    "collapsed": true
   },
   "outputs": [],
   "source": [
    "from chatterbot.trainers import ListTrainer"
   ]
  },
  {
   "cell_type": "code",
   "execution_count": 15,
   "metadata": {
    "collapsed": true
   },
   "outputs": [],
   "source": [
    "from chatterbot import ChatBot"
   ]
  },
  {
   "cell_type": "markdown",
   "metadata": {},
   "source": [
    "## 2. Criar um bot"
   ]
  },
  {
   "cell_type": "code",
   "execution_count": 16,
   "metadata": {
    "collapsed": true
   },
   "outputs": [],
   "source": [
    "bot = ChatBot(\"Test\")"
   ]
  },
  {
   "cell_type": "markdown",
   "metadata": {},
   "source": [
    "## 3. Criar algumas conversas contextuais"
   ]
  },
  {
   "cell_type": "code",
   "execution_count": 17,
   "metadata": {
    "collapsed": true
   },
   "outputs": [],
   "source": [
    "convI = [\"oi\", \"olá\", \"bom dia\", \"bom dia\",\n",
    "       \"como vai?\", \"estou bem\"]"
   ]
  },
  {
   "cell_type": "code",
   "execution_count": 18,
   "metadata": {
    "collapsed": true
   },
   "outputs": [],
   "source": [
    "convF = [\"que filmes você gosta?\",\n",
    "        \"eu gosto de Blade Runners 2049\",\n",
    "        \"não gosto de filmes românticos\",\n",
    "        \"você gosta de outros gêneros?\"]"
   ]
  },
  {
   "cell_type": "code",
   "execution_count": 19,
   "metadata": {
    "collapsed": true
   },
   "outputs": [],
   "source": [
    "convS = [\"Gosto de caminhar e pensar.\",\n",
    "        \"Você já se sentiu sozinho?\",\n",
    "        \"A solidão faz a gente pensar melhor.\",\n",
    "        \"Para trabalhar bem precisa de solidão para ter foco.\"]"
   ]
  },
  {
   "cell_type": "code",
   "execution_count": 20,
   "metadata": {
    "collapsed": true
   },
   "outputs": [],
   "source": [
    "conv_help_desk = [\"Tenho problemas com o Windows.\",\n",
    "                 \"Não é uma surpresa.\",\n",
    "                 \"Por que você não compra um Mac?\",\n",
    "                 \"Meu Mac tem um problema, tela cinza.\",\n",
    "                 \"Você já teve a placa de vídeo de seu Mac trocada?\",\n",
    "                 \"Você não prefere trocar por um Linux?\",\n",
    "                 \"Não sei instalar Linux no meu computador.\",\n",
    "                 \"Vá no site do Ubuntu para saber mais do Linux.\",\n",
    "                 \"Se você já fez a troca de placa de vídeo do Mac, então...\",\n",
    "                 \"O Linux é bem melhor que o Windows\",\n",
    "                 \"O Mac é muito caro.\",\n",
    "                 \"Precisa trocar sua placa de vídeo do Mac de novo.\"]"
   ]
  },
  {
   "cell_type": "markdown",
   "metadata": {},
   "source": [
    "## 4. Treinar o bot nas conversas contextuais"
   ]
  },
  {
   "cell_type": "code",
   "execution_count": 21,
   "metadata": {
    "collapsed": true
   },
   "outputs": [],
   "source": [
    "bot.set_trainer(ListTrainer)"
   ]
  },
  {
   "cell_type": "code",
   "execution_count": 22,
   "metadata": {},
   "outputs": [
    {
     "name": "stdout",
     "output_type": "stream",
     "text": [
      "List Trainer: [####################] 100%\n"
     ]
    }
   ],
   "source": [
    "bot.train(convI)"
   ]
  },
  {
   "cell_type": "code",
   "execution_count": 23,
   "metadata": {},
   "outputs": [
    {
     "name": "stdout",
     "output_type": "stream",
     "text": [
      "List Trainer: [####################] 100%\n"
     ]
    }
   ],
   "source": [
    "bot.train(convF)"
   ]
  },
  {
   "cell_type": "code",
   "execution_count": 24,
   "metadata": {},
   "outputs": [
    {
     "name": "stdout",
     "output_type": "stream",
     "text": [
      "List Trainer: [####################] 100%\n"
     ]
    }
   ],
   "source": [
    "bot.train(convS)"
   ]
  },
  {
   "cell_type": "code",
   "execution_count": 25,
   "metadata": {},
   "outputs": [
    {
     "name": "stdout",
     "output_type": "stream",
     "text": [
      "List Trainer: [####################] 100%\n"
     ]
    }
   ],
   "source": [
    "bot.train(conv_help_desk)"
   ]
  },
  {
   "cell_type": "markdown",
   "metadata": {},
   "source": [
    "## 5. Colocar o bot para rodar"
   ]
  },
  {
   "cell_type": "code",
   "execution_count": null,
   "metadata": {},
   "outputs": [
    {
     "name": "stdout",
     "output_type": "stream",
     "text": [
      "Você: Qual seu nome?\n",
      "Bot:  a solidão faz a gente pensar melhor\n",
      "Você: Você gosta de assistir filmes?\n",
      "Bot:  como assim?\n",
      "Você: Eu gosto do filme Thor\n",
      "Bot:  você gosta de outros gêneros?\n"
     ]
    }
   ],
   "source": [
    "quest = \"Oi\"\n",
    "while quest != \"tchau\":\n",
    "    quest = input(\"Você: \")\n",
    "    response = bot.get_response(quest)\n",
    "    if (float(response.confidence)) > 0.3:\n",
    "        print(\"Bot: \", response)\n",
    "    else:\n",
    "        print(\"Bot: Não entendi.\")\n",
    "\n"
   ]
  }
 ],
 "metadata": {
  "kernelspec": {
   "display_name": "Python 3",
   "language": "python",
   "name": "python3"
  },
  "language_info": {
   "codemirror_mode": {
    "name": "ipython",
    "version": 3
   },
   "file_extension": ".py",
   "mimetype": "text/x-python",
   "name": "python",
   "nbconvert_exporter": "python",
   "pygments_lexer": "ipython3",
   "version": "3.6.1"
  }
 },
 "nbformat": 4,
 "nbformat_minor": 2
}
