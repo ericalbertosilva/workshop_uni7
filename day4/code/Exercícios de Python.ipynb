{
 "cells": [
  {
   "cell_type": "markdown",
   "metadata": {},
   "source": [
    "# Exercícios de Python"
   ]
  },
  {
   "cell_type": "markdown",
   "metadata": {},
   "source": [
    "Paulo Cysne Rios, Jr, 17 de Outubro de 2017"
   ]
  },
  {
   "cell_type": "markdown",
   "metadata": {},
   "source": [
    "## 1. Exercício 1"
   ]
  },
  {
   "cell_type": "markdown",
   "metadata": {},
   "source": [
    "Imprima para cada aluno da forma\n",
    "aluno X cursa Y, Z."
   ]
  },
  {
   "cell_type": "code",
   "execution_count": 1,
   "metadata": {
    "collapsed": true
   },
   "outputs": [],
   "source": [
    "alunos = {\"Carlos\": [\"Cálculo\", \"Algebra Linear\", \"Biologia I\"],\n",
    "          \"Luis\": [\"Algebra Linear\", \"Quimica\"],\n",
    "          \"Maria\": [\"Cálculo\", \"Física I\", \"Biologia II\"]}"
   ]
  },
  {
   "cell_type": "markdown",
   "metadata": {},
   "source": [
    "## 2. Solução do Exercício 1"
   ]
  },
  {
   "cell_type": "code",
   "execution_count": 2,
   "metadata": {},
   "outputs": [
    {
     "name": "stdout",
     "output_type": "stream",
     "text": [
      "Carlos cursa\n",
      "Luis cursa\n",
      "Maria cursa\n"
     ]
    }
   ],
   "source": [
    "for aluno in alunos.keys():\n",
    "    print(aluno + \" cursa\")"
   ]
  },
  {
   "cell_type": "code",
   "execution_count": 3,
   "metadata": {},
   "outputs": [
    {
     "name": "stdout",
     "output_type": "stream",
     "text": [
      "Carlos cursa\n",
      "Luis cursa\n",
      "Maria cursa\n"
     ]
    }
   ],
   "source": [
    "for aluno in alunos:\n",
    "    print(aluno, \"cursa\")"
   ]
  },
  {
   "cell_type": "code",
   "execution_count": 4,
   "metadata": {},
   "outputs": [
    {
     "data": {
      "text/plain": [
       "['Cálculo', 'Algebra Linear', 'Biologia I']"
      ]
     },
     "execution_count": 4,
     "metadata": {},
     "output_type": "execute_result"
    }
   ],
   "source": [
    "alunos[\"Carlos\"]"
   ]
  },
  {
   "cell_type": "code",
   "execution_count": 5,
   "metadata": {},
   "outputs": [
    {
     "name": "stdout",
     "output_type": "stream",
     "text": [
      "Carlos cursa:\n",
      "Cálculo\n",
      "Algebra Linear\n",
      "Biologia I\n",
      "\n",
      "\n",
      "Luis cursa:\n",
      "Algebra Linear\n",
      "Quimica\n",
      "\n",
      "\n",
      "Maria cursa:\n",
      "Cálculo\n",
      "Física I\n",
      "Biologia II\n",
      "\n",
      "\n"
     ]
    }
   ],
   "source": [
    "for aluno in alunos.keys():\n",
    "    print(aluno, \"cursa:\")\n",
    "    for materia in alunos[aluno]:\n",
    "        print(materia)\n",
    "    print(\"\\n\")"
   ]
  },
  {
   "cell_type": "markdown",
   "metadata": {},
   "source": [
    "## 3. Exercício 2"
   ]
  },
  {
   "cell_type": "markdown",
   "metadata": {},
   "source": [
    "Imprima para cada matéria quantas notas foram passáveis.\n",
    "Uma nota é passável se ela é maior ou igual a 7.\n",
    "\n",
    "Imprima a média de cada matéria assumindo que há 3 notas para cada matéria."
   ]
  },
  {
   "cell_type": "markdown",
   "metadata": {},
   "source": [
    "## 4. Solução do Exercício 2"
   ]
  },
  {
   "cell_type": "code",
   "execution_count": 6,
   "metadata": {
    "collapsed": true
   },
   "outputs": [],
   "source": [
    "notas = {\"Algebra I\": [7.2, 9.3, 8.1],\n",
    "        \"Quimica I\": [9.5, 10.0, 5.6],\n",
    "        \"Biologia III\": [6.6, 5.1, 9.3]}"
   ]
  },
  {
   "cell_type": "code",
   "execution_count": 7,
   "metadata": {},
   "outputs": [
    {
     "name": "stdout",
     "output_type": "stream",
     "text": [
      "Algebra I\n",
      "Quimica I\n",
      "Biologia III\n"
     ]
    }
   ],
   "source": [
    "for materia in notas.keys():\n",
    "    print(materia)"
   ]
  },
  {
   "cell_type": "code",
   "execution_count": 8,
   "metadata": {},
   "outputs": [
    {
     "name": "stdout",
     "output_type": "stream",
     "text": [
      "Matéria:  Algebra I\n",
      "número de notas passáveis = 3 \n",
      "\n",
      "Matéria:  Quimica I\n",
      "número de notas passáveis = 2 \n",
      "\n",
      "Matéria:  Biologia III\n",
      "número de notas passáveis = 1 \n",
      "\n"
     ]
    }
   ],
   "source": [
    "for materia in notas.keys():\n",
    "    passaveis = 0\n",
    "    print(\"Matéria: \", materia)\n",
    "    for nota in notas[materia]:\n",
    "        if (nota >= 7):\n",
    "            passaveis = passaveis + 1\n",
    "    print(\"número de notas passáveis =\", passaveis, \"\\n\")"
   ]
  },
  {
   "cell_type": "markdown",
   "metadata": {},
   "source": [
    "## 5. Exercício 3"
   ]
  },
  {
   "cell_type": "markdown",
   "metadata": {},
   "source": [
    "Modifique o exemplo 2 para o caso de o número de notas ser desconhecido. Ou seja, as notas agora são da forma seguinte:"
   ]
  },
  {
   "cell_type": "code",
   "execution_count": 9,
   "metadata": {
    "collapsed": true
   },
   "outputs": [],
   "source": [
    "notas = {\"Algebra I\": [6.8, 9.3],\n",
    "        \"Quimica I\": [9.5, 10.0, 5.6],\n",
    "        \"Biologia III\": [7.6, 5.1, 9.3, 8.7]}"
   ]
  },
  {
   "cell_type": "markdown",
   "metadata": {},
   "source": [
    "## 6. Solução do Exercício 3"
   ]
  },
  {
   "cell_type": "code",
   "execution_count": 10,
   "metadata": {},
   "outputs": [
    {
     "name": "stdout",
     "output_type": "stream",
     "text": [
      "Matéria: Algebra I\n",
      "número de notas passáveis = 1\n",
      "número de notas =  2\n",
      "média 8.05 \n",
      "\n",
      "Matéria: Quimica I\n",
      "número de notas passáveis = 2\n",
      "número de notas =  3\n",
      "média 8.366666666666667 \n",
      "\n",
      "Matéria: Biologia III\n",
      "número de notas passáveis = 3\n",
      "número de notas =  4\n",
      "média 7.675 \n",
      "\n"
     ]
    }
   ],
   "source": [
    "for materia in notas.keys():\n",
    "    passaveis = 0\n",
    "    total_nota = 0\n",
    "    nr_notas = 0\n",
    "    print(\"Matéria:\", materia)\n",
    "    for nota in notas[materia]:\n",
    "        if (nota >= 7):\n",
    "            passaveis = passaveis + 1\n",
    "        total_nota = total_nota + nota\n",
    "        nr_notas = nr_notas + 1\n",
    "    print(\"número de notas passáveis =\", passaveis)\n",
    "    print(\"número de notas = \", nr_notas)\n",
    "    print(\"média\", total_nota/nr_notas, \"\\n\")"
   ]
  },
  {
   "cell_type": "markdown",
   "metadata": {},
   "source": [
    "## 7. Exercício 4"
   ]
  },
  {
   "cell_type": "markdown",
   "metadata": {},
   "source": [
    "Sabendo que o comprimento de uma lista é calculado como len(esta_lista) sendo esta_lista uma lista, modifique o exemplo 2 para o caso de o número de notas ser desconhecido. Ou seja, as notas agora são da forma seguinte:"
   ]
  },
  {
   "cell_type": "code",
   "execution_count": 11,
   "metadata": {
    "collapsed": true
   },
   "outputs": [],
   "source": [
    "notas = {\"Algebra I\": [6.8, 9.3],\n",
    "        \"Quimica I\": [9.5, 10.0, 5.6],\n",
    "        \"Biologia III\": [7.6, 5.1, 9.3, 8.7]}"
   ]
  },
  {
   "cell_type": "code",
   "execution_count": 12,
   "metadata": {},
   "outputs": [
    {
     "data": {
      "text/plain": [
       "3"
      ]
     },
     "execution_count": 12,
     "metadata": {},
     "output_type": "execute_result"
    }
   ],
   "source": [
    "esta_lista = [23, 15, 92]\n",
    "len(esta_lista)"
   ]
  },
  {
   "cell_type": "markdown",
   "metadata": {},
   "source": [
    "## 8. Solução do Exercício 4"
   ]
  },
  {
   "cell_type": "code",
   "execution_count": 13,
   "metadata": {},
   "outputs": [
    {
     "name": "stdout",
     "output_type": "stream",
     "text": [
      "Matéria: Algebra I\n",
      "número de notas passáveis = 1\n",
      "número de notas =  2\n",
      "média 8.05 \n",
      "\n",
      "Matéria: Quimica I\n",
      "número de notas passáveis = 2\n",
      "número de notas =  3\n",
      "média 8.366666666666667 \n",
      "\n",
      "Matéria: Biologia III\n",
      "número de notas passáveis = 3\n",
      "número de notas =  4\n",
      "média 7.675 \n",
      "\n"
     ]
    }
   ],
   "source": [
    "for materia in notas.keys():\n",
    "    passaveis = 0\n",
    "    total_nota = 0\n",
    "    print(\"Matéria:\", materia)\n",
    "    for nota in notas[materia]:\n",
    "        if (nota >= 7):\n",
    "            passaveis = passaveis + 1\n",
    "        total_nota = total_nota + nota\n",
    "    nr_notas = len(notas[materia])\n",
    "    print(\"número de notas passáveis =\", passaveis)\n",
    "    print(\"número de notas = \", nr_notas)\n",
    "    print(\"média\", total_nota/nr_notas, \"\\n\")"
   ]
  },
  {
   "cell_type": "markdown",
   "metadata": {},
   "source": [
    "## 9. Funções"
   ]
  },
  {
   "cell_type": "markdown",
   "metadata": {
    "collapsed": true
   },
   "source": [
    "Definindo uma função"
   ]
  },
  {
   "cell_type": "code",
   "execution_count": 14,
   "metadata": {
    "collapsed": true
   },
   "outputs": [],
   "source": [
    "def soma(x, y):\n",
    "    return (x+y)"
   ]
  },
  {
   "cell_type": "markdown",
   "metadata": {},
   "source": [
    "Usando uma função"
   ]
  },
  {
   "cell_type": "code",
   "execution_count": 15,
   "metadata": {},
   "outputs": [
    {
     "data": {
      "text/plain": [
       "8"
      ]
     },
     "execution_count": 15,
     "metadata": {},
     "output_type": "execute_result"
    }
   ],
   "source": [
    "soma(3, 5)"
   ]
  },
  {
   "cell_type": "markdown",
   "metadata": {},
   "source": [
    "## 10. Exercício 5"
   ]
  },
  {
   "cell_type": "markdown",
   "metadata": {},
   "source": [
    "Defina uma função para calcular a média de uma lista. Usando esta função, modifique o exemplo 2 para o caso de o número de notas ser desconhecido. Ou seja, as notas agora são da forma seguinte:"
   ]
  },
  {
   "cell_type": "code",
   "execution_count": 16,
   "metadata": {
    "collapsed": true
   },
   "outputs": [],
   "source": [
    "notas = {\"Algebra I\": [6.8, 9.3],\n",
    "        \"Quimica I\": [9.5, 10.0, 5.6],\n",
    "        \"Biologia III\": [7.6, 5.1, 9.3, 8.7]}"
   ]
  },
  {
   "cell_type": "markdown",
   "metadata": {},
   "source": [
    "## 11. Solução do Exercício 5"
   ]
  },
  {
   "cell_type": "code",
   "execution_count": 17,
   "metadata": {
    "collapsed": true
   },
   "outputs": [],
   "source": [
    "def media(lista):\n",
    "    total = 0\n",
    "    for cada in lista:\n",
    "        total = total + cada\n",
    "    return (total / len(lista))"
   ]
  },
  {
   "cell_type": "code",
   "execution_count": 18,
   "metadata": {},
   "outputs": [
    {
     "data": {
      "text/plain": [
       "5.8999999999999995"
      ]
     },
     "execution_count": 18,
     "metadata": {},
     "output_type": "execute_result"
    }
   ],
   "source": [
    "media([2.3, 5.6, 9.8])"
   ]
  },
  {
   "cell_type": "code",
   "execution_count": 19,
   "metadata": {
    "scrolled": true
   },
   "outputs": [
    {
     "name": "stdout",
     "output_type": "stream",
     "text": [
      "Matéria: Algebra I\n",
      "número de notas passáveis = 1\n",
      "número de notas =  2\n",
      "média 8.05 \n",
      "\n",
      "Matéria: Quimica I\n",
      "número de notas passáveis = 2\n",
      "número de notas =  3\n",
      "média 8.366666666666667 \n",
      "\n",
      "Matéria: Biologia III\n",
      "número de notas passáveis = 3\n",
      "número de notas =  4\n",
      "média 7.675 \n",
      "\n"
     ]
    }
   ],
   "source": [
    "# para cada matéria em notas\n",
    "for materia in notas.keys():\n",
    "    passaveis = 0\n",
    "    print(\"Matéria:\", materia)\n",
    "    \n",
    "    # Para cada nota \n",
    "    # na lista de notas da matéria\n",
    "    for nota in notas[materia]:\n",
    "        if (nota >= 7):\n",
    "            passaveis = passaveis + 1\n",
    "    \n",
    "    # Imprimir os resultados    \n",
    "    print(\"número de notas passáveis =\", passaveis)\n",
    "    print(\"número de notas = \", len(notas[materia]))\n",
    "    print(\"média\", media(notas[materia]), \"\\n\")"
   ]
  }
 ],
 "metadata": {
  "kernelspec": {
   "display_name": "Python 3",
   "language": "python",
   "name": "python3"
  },
  "language_info": {
   "codemirror_mode": {
    "name": "ipython",
    "version": 3
   },
   "file_extension": ".py",
   "mimetype": "text/x-python",
   "name": "python",
   "nbconvert_exporter": "python",
   "pygments_lexer": "ipython3",
   "version": "3.6.1"
  }
 },
 "nbformat": 4,
 "nbformat_minor": 2
}
